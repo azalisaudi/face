{
 "cells": [
  {
   "cell_type": "markdown",
   "id": "00948f61-3e30-4291-bb8f-2b2a2e007dad",
   "metadata": {},
   "source": [
    "STEP 3:\n",
    "\n",
    "Train the ML such as Support Vector Machine (SVM), kNN, RF, etc \n",
    "on top of the embeddings\n"
   ]
  },
  {
   "cell_type": "code",
   "execution_count": 23,
   "id": "5d14873d-b462-48fd-b53a-888267db44a8",
   "metadata": {},
   "outputs": [],
   "source": [
    "# import the necessary packages\n",
    "from sklearn.preprocessing import LabelEncoder\n",
    "from sklearn.svm import SVC\n",
    "import pickle"
   ]
  },
  {
   "cell_type": "code",
   "execution_count": 24,
   "id": "d4ce4c9b-2b77-40e2-b8ef-42da77579e4f",
   "metadata": {},
   "outputs": [
    {
     "name": "stdout",
     "output_type": "stream",
     "text": [
      "[INFO] loading face embeddings...\n",
      "[INFO] encoding labels...\n"
     ]
    }
   ],
   "source": [
    "# load the face embeddings\n",
    "print(\"[INFO] loading face embeddings...\")\n",
    "data = pickle.loads(open(\"output/embed.pk\", \"rb\").read())\n",
    "\n",
    "# encode the labels\n",
    "print(\"[INFO] encoding labels...\")\n",
    "le = LabelEncoder()\n",
    "labels = le.fit_transform(data[\"names\"])"
   ]
  },
  {
   "cell_type": "code",
   "execution_count": 25,
   "id": "d18dcab4-0a39-4f21-8e29-33c19bcca691",
   "metadata": {},
   "outputs": [
    {
     "name": "stdout",
     "output_type": "stream",
     "text": [
      "[INFO] training model...\n",
      "1.0\n"
     ]
    }
   ],
   "source": [
    "# train the model used to accept the 128-d embeddings of the face and\n",
    "# then produce the actual face recognition\n",
    "print(\"[INFO] training model...\")\n",
    "\n",
    "# SVM\n",
    "if True:\n",
    "    recognizer = SVC(C=1.0, kernel=\"linear\", probability=True)\n",
    "    recognizer.fit(data[\"embeddings\"], labels)\n",
    "\n",
    "# kNN\n",
    "if False:\n",
    "    from sklearn.neighbors import KNeighborsClassifier\n",
    "    recognizer = KNeighborsClassifier(n_neighbors=3)\n",
    "    recognizer.fit(data[\"embeddings\"], labels)\n",
    "\n",
    "# Random Forest\n",
    "if False:\n",
    "    from sklearn.ensemble import RandomForestClassifier\n",
    "    recognizer = RandomForestClassifier(max_depth=2, random_state=0)\n",
    "    recognizer.fit(data[\"embeddings\"], labels)\n",
    "\n",
    "train_score = recognizer.score(data[\"embeddings\"], labels)\n",
    "print(train_score)"
   ]
  },
  {
   "cell_type": "code",
   "execution_count": 26,
   "id": "1bb93fb3-6e20-4d17-8108-55c430b5cb77",
   "metadata": {},
   "outputs": [
    {
     "name": "stdout",
     "output_type": "stream",
     "text": [
      "[INFO] Done training\n"
     ]
    }
   ],
   "source": [
    "# write the actual face recognition model to disk\n",
    "f = open(\"output/recognizer.pk\", \"wb\")\n",
    "f.write(pickle.dumps(recognizer))\n",
    "f.close()\n",
    "\n",
    "# write the label encoder to disk\n",
    "f = open(\"output/le.pk\", \"wb\")\n",
    "f.write(pickle.dumps(le))\n",
    "f.close()\n",
    "\n",
    "print(\"[INFO] Done training\")"
   ]
  },
  {
   "cell_type": "code",
   "execution_count": null,
   "id": "208dce86-2d86-4bed-abec-1ccd3df42489",
   "metadata": {},
   "outputs": [],
   "source": []
  }
 ],
 "metadata": {
  "kernelspec": {
   "display_name": "Python 3 (ipykernel)",
   "language": "python",
   "name": "python3"
  },
  "language_info": {
   "codemirror_mode": {
    "name": "ipython",
    "version": 3
   },
   "file_extension": ".py",
   "mimetype": "text/x-python",
   "name": "python",
   "nbconvert_exporter": "python",
   "pygments_lexer": "ipython3",
   "version": "3.8.10"
  }
 },
 "nbformat": 4,
 "nbformat_minor": 5
}
